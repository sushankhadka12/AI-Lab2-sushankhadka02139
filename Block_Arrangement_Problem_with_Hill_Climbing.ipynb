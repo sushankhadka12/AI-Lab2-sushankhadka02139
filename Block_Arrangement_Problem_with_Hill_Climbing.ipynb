{
  "nbformat": 4,
  "nbformat_minor": 0,
  "metadata": {
    "colab": {
      "provenance": [],
      "authorship_tag": "ABX9TyMaqllEDX8TyHZ0omoABJjz",
      "include_colab_link": true
    },
    "kernelspec": {
      "name": "python3",
      "display_name": "Python 3"
    },
    "language_info": {
      "name": "python"
    }
  },
  "cells": [
    {
      "cell_type": "markdown",
      "metadata": {
        "id": "view-in-github",
        "colab_type": "text"
      },
      "source": [
        "<a href=\"https://colab.research.google.com/github/sushankhadka12/AI-Lab2-sushankhadka021390/blob/main/Block_Arrangement_Problem_with_Hill_Climbing.ipynb\" target=\"_parent\"><img src=\"https://colab.research.google.com/assets/colab-badge.svg\" alt=\"Open In Colab\"/></a>"
      ]
    },
    {
      "cell_type": "code",
      "execution_count": 3,
      "metadata": {
        "id": "r-sJs28VUcrf",
        "colab": {
          "base_uri": "https://localhost:8080/"
        },
        "outputId": "30ef445a-e5a3-42ed-d45f-7873b3a54c4c"
      },
      "outputs": [
        {
          "output_type": "stream",
          "name": "stdout",
          "text": [
            "Initial stack: ['C', 'A', 'D', 'B']\n",
            "Heuristic: 4\n",
            "----------------------------------------\n",
            "Trying move swap 0-1: ['A', 'C', 'D', 'B'], Heuristic: 3\n",
            "Trying move swap 1-2: ['C', 'D', 'A', 'B'], Heuristic: 4\n",
            "Trying move swap 2-3: ['C', 'A', 'B', 'D'], Heuristic: 3\n",
            "\n",
            "=> Move: swap 0-1\n",
            "New stack: ['A', 'C', 'D', 'B'], Heuristic: 3\n",
            "----------------------------------------\n",
            "Trying move swap 0-1: ['C', 'A', 'D', 'B'], Heuristic: 4\n",
            "Trying move swap 1-2: ['A', 'D', 'C', 'B'], Heuristic: 2\n",
            "Trying move swap 2-3: ['A', 'C', 'B', 'D'], Heuristic: 2\n",
            "\n",
            "=> Move: swap 1-2\n",
            "New stack: ['A', 'D', 'C', 'B'], Heuristic: 2\n",
            "----------------------------------------\n",
            "Trying move swap 0-1: ['D', 'A', 'C', 'B'], Heuristic: 3\n",
            "Trying move swap 1-2: ['A', 'C', 'D', 'B'], Heuristic: 3\n",
            "Trying move swap 2-3: ['A', 'D', 'B', 'C'], Heuristic: 3\n",
            "\n",
            "No better neighbor found. Stuck in local minimum.\n",
            "\n",
            "Final Result:\n",
            "Step 0: ['C', 'A', 'D', 'B']\n",
            "Step 1: ['A', 'C', 'D', 'B']\n",
            "Step 2: ['A', 'D', 'C', 'B']\n",
            "\n",
            " Goal not reached. Algorithm got stuck.\n",
            "Moves tried: swap 0-1 -> swap 1-2\n"
          ]
        }
      ],
      "source": [
        "def heuristic(state, goal):\n",
        "    return sum(1 for i in range(len(state)) if state[i] != goal[i])\n",
        "\n",
        "def get_neighbors(state):\n",
        "    neighbors = []\n",
        "    for i in range(len(state) - 1):\n",
        "        neighbor = state[:]\n",
        "        neighbor[i], neighbor[i+1] = neighbor[i+1], neighbor[i]\n",
        "        neighbors.append((neighbor, f\"swap {i}-{i+1}\"))\n",
        "    return neighbors\n",
        "\n",
        "def hill_climbing(initial_state, goal_state):\n",
        "    current = initial_state\n",
        "    path = [initial_state]\n",
        "    moves = []\n",
        "    current_h = heuristic(current, goal_state)\n",
        "\n",
        "    print(f\"Initial stack: {current}\")\n",
        "    print(f\"Heuristic: {current_h}\")\n",
        "    print(\"-\" * 40)\n",
        "\n",
        "    while True:\n",
        "        neighbors = get_neighbors(current)\n",
        "        best_neighbor = current\n",
        "        best_move = None\n",
        "        best_h = current_h\n",
        "\n",
        "        for neighbor, move in neighbors:\n",
        "            h = heuristic(neighbor, goal_state)\n",
        "            print(f\"Trying move {move}: {neighbor}, Heuristic: {h}\")\n",
        "            if h < best_h:\n",
        "                best_neighbor = neighbor\n",
        "                best_h = h\n",
        "                best_move = move\n",
        "\n",
        "        if best_h < current_h:\n",
        "            print(f\"\\n=> Move: {best_move}\")\n",
        "            current = best_neighbor\n",
        "            current_h = best_h\n",
        "            path.append(current)\n",
        "            moves.append(best_move)\n",
        "            print(f\"New stack: {current}, Heuristic: {current_h}\")\n",
        "            print(\"-\" * 40)\n",
        "        else:\n",
        "            print(\"\\nNo better neighbor found. Stuck in local minimum.\")\n",
        "            break\n",
        "\n",
        "    return path, moves, current_h == 0\n",
        "\n",
        "initial_stack = ['C', 'A', 'D', 'B']\n",
        "goal_stack = ['A', 'B', 'C', 'D']\n",
        "\n",
        "solution_path, move_sequence, success = hill_climbing(initial_stack, goal_stack)\n",
        "\n",
        "print(\"\\nFinal Result:\")\n",
        "for i, state in enumerate(solution_path):\n",
        "    print(f\"Step {i}: {state}\")\n",
        "if success:\n",
        "    print(\"\\n Goal reached!\")\n",
        "    print(\"Moves:\", \" -> \".join(move_sequence))\n",
        "else:\n",
        "    print(\"\\n Goal not reached. Algorithm got stuck.\")\n",
        "    print(\"Moves tried:\", \" -> \".join(move_sequence))\n"
      ]
    }
  ]
}