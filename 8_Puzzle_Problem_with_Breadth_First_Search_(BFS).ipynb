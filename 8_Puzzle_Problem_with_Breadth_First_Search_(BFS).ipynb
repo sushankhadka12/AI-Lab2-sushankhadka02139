{
  "nbformat": 4,
  "nbformat_minor": 0,
  "metadata": {
    "colab": {
      "provenance": [],
      "authorship_tag": "ABX9TyPt/Www5YJzymCe2kT/OaXo",
      "include_colab_link": true
    },
    "kernelspec": {
      "name": "python3",
      "display_name": "Python 3"
    },
    "language_info": {
      "name": "python"
    }
  },
  "cells": [
    {
      "cell_type": "markdown",
      "metadata": {
        "id": "view-in-github",
        "colab_type": "text"
      },
      "source": [
        "<a href=\"https://colab.research.google.com/github/sushankhadka12/AI-Lab2-sushankhadka02139/blob/main/8_Puzzle_Problem_with_Breadth_First_Search_(BFS).ipynb\" target=\"_parent\"><img src=\"https://colab.research.google.com/assets/colab-badge.svg\" alt=\"Open In Colab\"/></a>"
      ]
    },
    {
      "cell_type": "code",
      "execution_count": 1,
      "metadata": {
        "id": "nqmPD9Q1Rcye"
      },
      "outputs": [],
      "source": [
        "from collections import deque\n"
      ]
    },
    {
      "cell_type": "code",
      "source": [
        "goal_state = [[1, 2, 3],\n",
        "              [4, 5, 6],\n",
        "              [7, 8, 0]]"
      ],
      "metadata": {
        "id": "uE-w4p3vSFPA"
      },
      "execution_count": 2,
      "outputs": []
    },
    {
      "cell_type": "code",
      "source": [
        "moves = [(-1, 0, \"up\"), (1, 0, \"down\"), (0, -1, \"left\"), (0, 1, \"right\")]\n"
      ],
      "metadata": {
        "id": "x9jCoDohSLKW"
      },
      "execution_count": 3,
      "outputs": []
    },
    {
      "cell_type": "code",
      "source": [
        "def manhattan_distance(state):\n",
        "    dist = 0\n",
        "    for i in range(3):\n",
        "        for j in range(3):\n",
        "            val = state[i][j]\n",
        "            if val != 0:\n",
        "                goal_x = (val - 1) // 3\n",
        "                goal_y = (val - 1) % 3\n",
        "                dist += abs(i - goal_x) + abs(j - goal_y)\n",
        "    return dist"
      ],
      "metadata": {
        "id": "CA_M04zrSPp6"
      },
      "execution_count": 4,
      "outputs": []
    },
    {
      "cell_type": "code",
      "source": [
        "def get_blank_pos(state):\n",
        "    for i in range(3):\n",
        "        for j in range(3):\n",
        "            if state[i][j] == 0:\n",
        "                return i, j"
      ],
      "metadata": {
        "id": "vJ2qU-NoSWQD"
      },
      "execution_count": 5,
      "outputs": []
    },
    {
      "cell_type": "code",
      "source": [
        "def valid(x, y):\n",
        "    return 0 <= x < 3 and 0 <= y < 3\n",
        "\n",
        "def state_to_tuple(state):\n",
        "    return tuple(tuple(row) for row in state)"
      ],
      "metadata": {
        "id": "eo91Dy-DSdI3"
      },
      "execution_count": 6,
      "outputs": []
    },
    {
      "cell_type": "code",
      "source": [
        "def bfs(start_state):\n",
        "    visited = set()\n",
        "    queue = deque()\n",
        "    queue.append((start_state, []))\n",
        "    while queue:\n",
        "        current, path = queue.popleft()\n",
        "        visited.add(state_to_tuple(current))\n",
        "\n",
        "        print(\"Exploring state:\")\n",
        "        for row in current:\n",
        "            print(row)\n",
        "        print(\"Manhattan Distance:\", manhattan_distance(current))\n",
        "        print(\"Moves so far:\", \" -> \".join(path) if path else \"(start)\")\n",
        "        print(\"---------------------------\")\n",
        "\n",
        "        if current == goal_state:\n",
        "            return path\n",
        "\n",
        "        x, y = get_blank_pos(current)\n",
        "\n",
        "        for dx, dy, move in moves:\n",
        "            nx, ny = x + dx, y + dy\n",
        "            if valid(nx, ny):\n",
        "                new_state = [row[:] for row in current]\n",
        "                new_state[x][y], new_state[nx][ny] = new_state[nx][ny], new_state[x][y]\n",
        "\n",
        "                if state_to_tuple(new_state) not in visited:\n",
        "                    queue.append((new_state, path + [move]))\n",
        "                    visited.add(state_to_tuple(new_state))\n",
        "    return None"
      ],
      "metadata": {
        "id": "G2_jB3VDSpdi"
      },
      "execution_count": 8,
      "outputs": []
    },
    {
      "cell_type": "code",
      "source": [
        "initial_state = [\n",
        "    [1, 2, 3],\n",
        "    [4, 0, 5],\n",
        "    [7, 8, 6]\n",
        "]\n",
        "moves_path = bfs(initial_state)\n",
        "print(\"\\nInitial State:\")\n",
        "for row in initial_state:\n",
        "    print(row)\n",
        "if moves_path:\n",
        "    print(\"\\n✅ Optimal Path to Goal ({} steps):\".format(len(moves_path)))\n",
        "    print(\" -> \".join(moves_path))\n",
        "    print(\"\\nFinal Goal State:\")\n",
        "    for row in goal_state:\n",
        "        print(row)\n",
        "else:\n",
        "    print(\"❌ No solution found.\")"
      ],
      "metadata": {
        "colab": {
          "base_uri": "https://localhost:8080/"
        },
        "id": "8z5TI7qQS683",
        "outputId": "473b6c0c-8671-4936-f99c-971ae7ef94ab"
      },
      "execution_count": 9,
      "outputs": [
        {
          "output_type": "stream",
          "name": "stdout",
          "text": [
            "Exploring state:\n",
            "[1, 2, 3]\n",
            "[4, 0, 5]\n",
            "[7, 8, 6]\n",
            "Manhattan Distance: 2\n",
            "Moves so far: (start)\n",
            "---------------------------\n",
            "Exploring state:\n",
            "[1, 0, 3]\n",
            "[4, 2, 5]\n",
            "[7, 8, 6]\n",
            "Manhattan Distance: 3\n",
            "Moves so far: up\n",
            "---------------------------\n",
            "Exploring state:\n",
            "[1, 2, 3]\n",
            "[4, 8, 5]\n",
            "[7, 0, 6]\n",
            "Manhattan Distance: 3\n",
            "Moves so far: down\n",
            "---------------------------\n",
            "Exploring state:\n",
            "[1, 2, 3]\n",
            "[0, 4, 5]\n",
            "[7, 8, 6]\n",
            "Manhattan Distance: 3\n",
            "Moves so far: left\n",
            "---------------------------\n",
            "Exploring state:\n",
            "[1, 2, 3]\n",
            "[4, 5, 0]\n",
            "[7, 8, 6]\n",
            "Manhattan Distance: 1\n",
            "Moves so far: right\n",
            "---------------------------\n",
            "Exploring state:\n",
            "[0, 1, 3]\n",
            "[4, 2, 5]\n",
            "[7, 8, 6]\n",
            "Manhattan Distance: 4\n",
            "Moves so far: up -> left\n",
            "---------------------------\n",
            "Exploring state:\n",
            "[1, 3, 0]\n",
            "[4, 2, 5]\n",
            "[7, 8, 6]\n",
            "Manhattan Distance: 4\n",
            "Moves so far: up -> right\n",
            "---------------------------\n",
            "Exploring state:\n",
            "[1, 2, 3]\n",
            "[4, 8, 5]\n",
            "[0, 7, 6]\n",
            "Manhattan Distance: 4\n",
            "Moves so far: down -> left\n",
            "---------------------------\n",
            "Exploring state:\n",
            "[1, 2, 3]\n",
            "[4, 8, 5]\n",
            "[7, 6, 0]\n",
            "Manhattan Distance: 4\n",
            "Moves so far: down -> right\n",
            "---------------------------\n",
            "Exploring state:\n",
            "[0, 2, 3]\n",
            "[1, 4, 5]\n",
            "[7, 8, 6]\n",
            "Manhattan Distance: 4\n",
            "Moves so far: left -> up\n",
            "---------------------------\n",
            "Exploring state:\n",
            "[1, 2, 3]\n",
            "[7, 4, 5]\n",
            "[0, 8, 6]\n",
            "Manhattan Distance: 4\n",
            "Moves so far: left -> down\n",
            "---------------------------\n",
            "Exploring state:\n",
            "[1, 2, 0]\n",
            "[4, 5, 3]\n",
            "[7, 8, 6]\n",
            "Manhattan Distance: 2\n",
            "Moves so far: right -> up\n",
            "---------------------------\n",
            "Exploring state:\n",
            "[1, 2, 3]\n",
            "[4, 5, 6]\n",
            "[7, 8, 0]\n",
            "Manhattan Distance: 0\n",
            "Moves so far: right -> down\n",
            "---------------------------\n",
            "\n",
            "Initial State:\n",
            "[1, 2, 3]\n",
            "[4, 0, 5]\n",
            "[7, 8, 6]\n",
            "\n",
            "✅ Optimal Path to Goal (2 steps):\n",
            "right -> down\n",
            "\n",
            "Final Goal State:\n",
            "[1, 2, 3]\n",
            "[4, 5, 6]\n",
            "[7, 8, 0]\n"
          ]
        }
      ]
    }
  ]
}